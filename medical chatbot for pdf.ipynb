{
 "cells": [
  {
   "cell_type": "code",
   "execution_count": null,
   "id": "506a8c09",
   "metadata": {},
   "outputs": [],
   "source": [
    "!pip install langchain-huggingface"
   ]
  },
  {
   "cell_type": "code",
   "execution_count": null,
   "id": "7fede2f5",
   "metadata": {},
   "outputs": [
    {
     "name": "stdout",
     "output_type": "stream",
     "text": [
      "Note: you may need to restart the kernel to use updated packages.\n"
     ]
    }
   ],
   "source": [
    "!pip install -qU langchain-openai"
   ]
  },
  {
   "cell_type": "code",
   "execution_count": null,
   "id": "d1ff5014",
   "metadata": {},
   "outputs": [
    {
     "name": "stdout",
     "output_type": "stream",
     "text": [
      "Note: you may need to restart the kernel to use updated packages.\n"
     ]
    }
   ],
   "source": [
    "!pip install -qU langchain_community pypdf"
   ]
  },
  {
   "cell_type": "code",
   "execution_count": null,
   "id": "2708a03e",
   "metadata": {},
   "outputs": [
    {
     "ename": "ModuleNotFoundError",
     "evalue": "No module named 'langchain_community'",
     "output_type": "error",
     "traceback": [
      "\u001b[1;31m---------------------------------------------------------------------------\u001b[0m",
      "\u001b[1;31mModuleNotFoundError\u001b[0m                       Traceback (most recent call last)",
      "Cell \u001b[1;32mIn[1], line 1\u001b[0m\n\u001b[1;32m----> 1\u001b[0m \u001b[38;5;28;01mfrom\u001b[39;00m\u001b[38;5;250m \u001b[39m\u001b[38;5;21;01mlangchain_community\u001b[39;00m\u001b[38;5;21;01m.\u001b[39;00m\u001b[38;5;21;01mdocument_loaders\u001b[39;00m\u001b[38;5;250m \u001b[39m\u001b[38;5;28;01mimport\u001b[39;00m DirectoryLoader\n",
      "\u001b[1;31mModuleNotFoundError\u001b[0m: No module named 'langchain_community'"
     ]
    }
   ],
   "source": [
    "from langchain_community.document_loaders import DirectoryLoader"
   ]
  },
  {
   "cell_type": "code",
   "execution_count": 10,
   "id": "cfbd780e",
   "metadata": {},
   "outputs": [],
   "source": [
    "from langchain_text_splitters import RecursiveCharacterTextSplitter"
   ]
  },
  {
   "cell_type": "code",
   "execution_count": 11,
   "id": "64c1299a",
   "metadata": {},
   "outputs": [
    {
     "name": "stdout",
     "output_type": "stream",
     "text": [
      "Requirement already satisfied: pypdf in c:\\users\\nashra kamal\\anaconda3\\lib\\site-packages (5.4.0)\n",
      "Requirement already satisfied: typing_extensions>=4.0 in c:\\users\\nashra kamal\\anaconda3\\lib\\site-packages (from pypdf) (4.13.1)\n",
      "Note: you may need to restart the kernel to use updated packages.\n"
     ]
    }
   ],
   "source": [
    "pip install pypdf"
   ]
  },
  {
   "cell_type": "code",
   "execution_count": 12,
   "id": "262b1045",
   "metadata": {},
   "outputs": [
    {
     "name": "stdout",
     "output_type": "stream",
     "text": [
      "Requirement already satisfied: pdfplumber in c:\\users\\nashra kamal\\appdata\\roaming\\python\\python310\\site-packages (0.11.6)\n",
      "Requirement already satisfied: pandas in c:\\users\\nashra kamal\\anaconda3\\lib\\site-packages (1.5.3)\n",
      "Requirement already satisfied: Pillow>=9.1 in c:\\users\\nashra kamal\\anaconda3\\lib\\site-packages (from pdfplumber) (9.4.0)\n",
      "Requirement already satisfied: pdfminer.six==20250327 in c:\\users\\nashra kamal\\appdata\\roaming\\python\\python310\\site-packages (from pdfplumber) (20250327)\n",
      "Requirement already satisfied: pypdfium2>=4.18.0 in c:\\users\\nashra kamal\\appdata\\roaming\\python\\python310\\site-packages (from pdfplumber) (4.30.1)\n",
      "Requirement already satisfied: cryptography>=36.0.0 in c:\\users\\nashra kamal\\anaconda3\\lib\\site-packages (from pdfminer.six==20250327->pdfplumber) (39.0.1)\n",
      "Requirement already satisfied: charset-normalizer>=2.0.0 in c:\\users\\nashra kamal\\anaconda3\\lib\\site-packages (from pdfminer.six==20250327->pdfplumber) (2.0.4)\n",
      "Requirement already satisfied: numpy>=1.21.0 in c:\\users\\nashra kamal\\anaconda3\\lib\\site-packages (from pandas) (1.26.4)\n",
      "Requirement already satisfied: pytz>=2020.1 in c:\\users\\nashra kamal\\anaconda3\\lib\\site-packages (from pandas) (2022.7)\n",
      "Requirement already satisfied: python-dateutil>=2.8.1 in c:\\users\\nashra kamal\\appdata\\roaming\\python\\python310\\site-packages (from pandas) (2.8.2)\n",
      "Requirement already satisfied: six>=1.5 in c:\\users\\nashra kamal\\appdata\\roaming\\python\\python310\\site-packages (from python-dateutil>=2.8.1->pandas) (1.16.0)\n",
      "Requirement already satisfied: cffi>=1.12 in c:\\users\\nashra kamal\\anaconda3\\lib\\site-packages (from cryptography>=36.0.0->pdfminer.six==20250327->pdfplumber) (1.15.1)\n",
      "Requirement already satisfied: pycparser in c:\\users\\nashra kamal\\anaconda3\\lib\\site-packages (from cffi>=1.12->cryptography>=36.0.0->pdfminer.six==20250327->pdfplumber) (2.21)\n"
     ]
    }
   ],
   "source": [
    "!pip install --user pdfplumber pandas\n",
    "\n"
   ]
  },
  {
   "cell_type": "code",
   "execution_count": 13,
   "id": "f3fa64e0",
   "metadata": {},
   "outputs": [],
   "source": [
    "import pdfplumber\n",
    "import pandas as pd\n",
    "\n",
    "pdf_path = r\"C:\\Users\\Nashra Kamal\\Desktop\\Medical chatbot\\data\"\n",
    "\n"
   ]
  },
  {
   "cell_type": "code",
   "execution_count": null,
   "id": "e5e9b3be",
   "metadata": {},
   "outputs": [],
   "source": []
  },
  {
   "cell_type": "code",
   "execution_count": 14,
   "id": "419399ca",
   "metadata": {},
   "outputs": [
    {
     "name": "stdout",
     "output_type": "stream",
     "text": [
      "Length of PDF pages:  26\n"
     ]
    }
   ],
   "source": [
    "from langchain.document_loaders import DirectoryLoader, PyPDFLoader\n",
    "\n",
    "\n",
    "def load_pdf_files(data):\n",
    "    loader = DirectoryLoader(data,\n",
    "                             glob='*.pdf',\n",
    "                             loader_cls=PyPDFLoader)\n",
    "    documents = loader.load()\n",
    "    return documents\n",
    "\n",
    "\n",
    "pdf_path = \"C:\\\\Users\\\\Nashra Kamal\\\\Desktop\\\\Medical chatbot\\\\data\"\n",
    "\n",
    "\n",
    "\n",
    "documents = load_pdf_files(data=pdf_path)\n",
    "\n",
    "\n",
    "print(\"Length of PDF pages: \", len(documents))\n"
   ]
  },
  {
   "cell_type": "code",
   "execution_count": 15,
   "id": "b9b29bd6",
   "metadata": {},
   "outputs": [],
   "source": [
    "def create_chunks(extracted_data):\n",
    "     text_splitter=RecursiveCharacterTextSplitter(chunk_size=500,\n",
    "                                                  chunk_overlap=50)\n",
    "     text_chunks=text_splitter.split_documents(extracted_data)\n",
    "     return text_chunks"
   ]
  },
  {
   "cell_type": "code",
   "execution_count": 16,
   "id": "2e28c645",
   "metadata": {},
   "outputs": [
    {
     "name": "stdout",
     "output_type": "stream",
     "text": [
      "Length of Text Chunks:  210\n",
      "page_content='ADVISORS\n",
      "A number of experts in the library and medical communities provided invaluable assistance in the formulation of this\n",
      "encyclopedia. Our advisory board performed a myriad of duties, from defining the scope of coverage to reviewing\n",
      "individual entries for accuracy and accessibility. The editor would like to express her appreciation to them.\n",
      "MEDICAL ADVISORS\n",
      "Rosalyn Carson-DeWitt, M.D.\n",
      "Durham, NC\n",
      "Larry I. Lutwick M.D., F.A.C.P.\n",
      "Director, Infectious Diseases\n",
      "VA Medical Center\n",
      "Brooklyn, NY' metadata={'producer': 'PDFium', 'creator': 'PDFium', 'creationdate': 'D:20250421171227', 'source': 'C:\\\\Users\\\\Nashra Kamal\\\\Desktop\\\\Medical chatbot\\\\data\\\\The-Gale-Encyclopedia-of-Medicine-3rd-Edition-staibabussalamsula.ac_.id_.pdf', 'total_pages': 26, 'page': 0, 'page_label': '1'}\n"
     ]
    }
   ],
   "source": [
    "text_chunks=create_chunks(extracted_data=documents)\n",
    "print(\"Length of Text Chunks: \", len(text_chunks))\n",
    "print(text_chunks[0])\n"
   ]
  },
  {
   "cell_type": "code",
   "execution_count": 17,
   "id": "1e3926c4",
   "metadata": {},
   "outputs": [],
   "source": [
    "from langchain_huggingface import HuggingFaceEmbeddings"
   ]
  },
  {
   "cell_type": "code",
   "execution_count": 18,
   "id": "b657b8ec",
   "metadata": {},
   "outputs": [],
   "source": [
    "#pip install -U sentence-transformers9\n"
   ]
  },
  {
   "cell_type": "code",
   "execution_count": 19,
   "id": "252cf7b0",
   "metadata": {},
   "outputs": [],
   "source": [
    "def get_embedding_model():\n",
    "    embedding_model = HuggingFaceEmbeddings(model_name=\"sentence-transformers/all-MiniLM-L6-v2\")\n",
    "    return embedding_model\n",
    "\n",
    "embedding_model = get_embedding_model()"
   ]
  },
  {
   "cell_type": "code",
   "execution_count": 20,
   "id": "dc081308",
   "metadata": {
    "scrolled": true
   },
   "outputs": [
    {
     "name": "stdout",
     "output_type": "stream",
     "text": [
      "\n",
      "Note: you may need to restart the kernel to use updated packages.\n"
     ]
    },
    {
     "name": "stderr",
     "output_type": "stream",
     "text": [
      "\n",
      "EnvironmentLocationNotFound: Not a conda environment: C:\\Users\\Nashra\n",
      "\n"
     ]
    }
   ],
   "source": [
    "conda install pytorch torchvision torchaudio cpuonly -c pytorch\n"
   ]
  },
  {
   "cell_type": "code",
   "execution_count": 21,
   "id": "40666026",
   "metadata": {},
   "outputs": [
    {
     "name": "stdout",
     "output_type": "stream",
     "text": [
      "Requirement already satisfied: torch in c:\\users\\nashra kamal\\anaconda3\\lib\\site-packages (2.7.0)\n",
      "Requirement already satisfied: typing-extensions>=4.10.0 in c:\\users\\nashra kamal\\anaconda3\\lib\\site-packages (from torch) (4.13.1)\n",
      "Requirement already satisfied: fsspec in c:\\users\\nashra kamal\\anaconda3\\lib\\site-packages (from torch) (2025.3.2)\n",
      "Requirement already satisfied: sympy>=1.13.3 in c:\\users\\nashra kamal\\anaconda3\\lib\\site-packages (from torch) (1.13.3)\n",
      "Requirement already satisfied: jinja2 in c:\\users\\nashra kamal\\anaconda3\\lib\\site-packages (from torch) (3.1.2)\n",
      "Requirement already satisfied: filelock in c:\\users\\nashra kamal\\anaconda3\\lib\\site-packages (from torch) (3.18.0)\n",
      "Requirement already satisfied: networkx in c:\\users\\nashra kamal\\anaconda3\\lib\\site-packages (from torch) (2.8.4)\n",
      "Requirement already satisfied: mpmath<1.4,>=1.1.0 in c:\\users\\nashra kamal\\anaconda3\\lib\\site-packages (from sympy>=1.13.3->torch) (1.2.1)\n",
      "Requirement already satisfied: MarkupSafe>=2.0 in c:\\users\\nashra kamal\\anaconda3\\lib\\site-packages (from jinja2->torch) (2.1.1)\n",
      "Note: you may need to restart the kernel to use updated packages.\n"
     ]
    }
   ],
   "source": [
    "pip install torch --upgrade\n"
   ]
  },
  {
   "cell_type": "code",
   "execution_count": 23,
   "id": "2fce2e51",
   "metadata": {
    "scrolled": false
   },
   "outputs": [],
   "source": [
    "def get_embedding_model():\n",
    "    embedding_model = HuggingFaceEmbeddings(model_name=\"sentence-transformers/all-MiniLM-L6-v2\")\n",
    "    return embedding_model\n",
    "\n",
    "embedding_model = get_embedding_model()"
   ]
  },
  {
   "cell_type": "code",
   "execution_count": 24,
   "id": "a4212224",
   "metadata": {},
   "outputs": [
    {
     "name": "stdout",
     "output_type": "stream",
     "text": [
      "2.7.0+cpu\n"
     ]
    }
   ],
   "source": [
    "import torch\n",
    "print(torch.__version__)\n"
   ]
  },
  {
   "cell_type": "code",
   "execution_count": 25,
   "id": "53254a16",
   "metadata": {},
   "outputs": [
    {
     "name": "stdout",
     "output_type": "stream",
     "text": [
      "Requirement already satisfied: torch in c:\\users\\nashra kamal\\anaconda3\\lib\\site-packages (2.7.0)\n",
      "Requirement already satisfied: typing-extensions>=4.10.0 in c:\\users\\nashra kamal\\anaconda3\\lib\\site-packages (from torch) (4.13.1)\n",
      "Requirement already satisfied: fsspec in c:\\users\\nashra kamal\\anaconda3\\lib\\site-packages (from torch) (2025.3.2)\n",
      "Requirement already satisfied: filelock in c:\\users\\nashra kamal\\anaconda3\\lib\\site-packages (from torch) (3.18.0)\n",
      "Requirement already satisfied: networkx in c:\\users\\nashra kamal\\anaconda3\\lib\\site-packages (from torch) (2.8.4)\n",
      "Requirement already satisfied: sympy>=1.13.3 in c:\\users\\nashra kamal\\anaconda3\\lib\\site-packages (from torch) (1.13.3)\n",
      "Requirement already satisfied: jinja2 in c:\\users\\nashra kamal\\anaconda3\\lib\\site-packages (from torch) (3.1.2)\n",
      "Requirement already satisfied: mpmath<1.4,>=1.1.0 in c:\\users\\nashra kamal\\anaconda3\\lib\\site-packages (from sympy>=1.13.3->torch) (1.2.1)\n",
      "Requirement already satisfied: MarkupSafe>=2.0 in c:\\users\\nashra kamal\\anaconda3\\lib\\site-packages (from jinja2->torch) (2.1.1)\n",
      "Note: you may need to restart the kernel to use updated packages.\n"
     ]
    }
   ],
   "source": [
    "pip install torch --upgrade\n"
   ]
  },
  {
   "cell_type": "code",
   "execution_count": 26,
   "id": "00397462",
   "metadata": {},
   "outputs": [],
   "source": [
    "#!pip uninstall -y sentence-transformers transformers\n",
    "#!pip install -U sentence-transformers transformers\n"
   ]
  },
  {
   "cell_type": "code",
   "execution_count": 27,
   "id": "502c08b3",
   "metadata": {},
   "outputs": [
    {
     "name": "stdout",
     "output_type": "stream",
     "text": [
      "Requirement already satisfied: faiss-cpu in c:\\users\\nashra kamal\\anaconda3\\lib\\site-packages (1.10.0)\n",
      "Requirement already satisfied: numpy<3.0,>=1.25.0 in c:\\users\\nashra kamal\\anaconda3\\lib\\site-packages (from faiss-cpu) (1.26.4)\n",
      "Requirement already satisfied: packaging in c:\\users\\nashra kamal\\anaconda3\\lib\\site-packages (from faiss-cpu) (24.2)\n"
     ]
    }
   ],
   "source": [
    "!pip install faiss-cpu\n"
   ]
  },
  {
   "cell_type": "code",
   "execution_count": 28,
   "id": "7d717877",
   "metadata": {},
   "outputs": [],
   "source": [
    "from langchain.vectorstores import FAISS\n"
   ]
  },
  {
   "cell_type": "markdown",
   "id": "3cfd217b",
   "metadata": {},
   "source": [
    "# from langchain.vectorstores import FAISS\n",
    "\n",
    "\n",
    "DB_FAISS_PATH = \"vectorstore/db_faiss\"\n",
    "\n",
    "\n",
    "db = FAISS.from_documents(text_chunks, embedding_model)\n",
    "\n",
    "db.save_local(DB_FAISS_PATH)\n"
   ]
  },
  {
   "cell_type": "code",
   "execution_count": 29,
   "id": "db97fdab",
   "metadata": {},
   "outputs": [],
   "source": [
    "DB_FAISS_PATH = \"vectorstore/db_faiss\"\n",
    "\n",
    "\n",
    "db = FAISS.from_documents(text_chunks, embedding_model)\n",
    "\n",
    "db.save_local(DB_FAISS_PATH)\n"
   ]
  },
  {
   "cell_type": "code",
   "execution_count": 30,
   "id": "33bb55db",
   "metadata": {},
   "outputs": [
    {
     "name": "stdout",
     "output_type": "stream",
     "text": [
      "Result 1:\n",
      "the tests may be necessary.\n",
      "Side effects\n",
      "Acetaminophen causes few side effects. The most\n",
      "common one is lightheadedness. Some people may\n",
      "experience trembling and pain in the side or the\n",
      "lower back. Allergic reactions occur in some people,\n",
      "but are rare. Anyone who develops symptoms such as\n",
      "a rash, swelling, or difficulty breathing after taking\n",
      "acetaminophen should stop taking the drug and get\n",
      "immediate medical attention. Other rare side effects\n",
      "\n",
      "---\n",
      "\n",
      "Result 2:\n",
      "function–may provide the clue.Pain and tenderness\n",
      "on physical examination are common findings.\n",
      "Sometimes a deep abscess will eat a small channel\n",
      "(sinus) to the surface and begin leaking pus. A sterile\n",
      "abscess may cause only a painful lump deep in the\n",
      "buttock where a shot was given.\n",
      "KEY TERMS\n",
      "Cellulitis— Inflammation of tissue due to infection.\n",
      "Enzyme— Any of a number of protein chemicals\n",
      "that can change other chemicals.\n",
      "Fallopian tubes— Part of the internal female anat-\n",
      "\n",
      "---\n",
      "\n",
      "Result 3:\n",
      "include yellow skin or eyes, unusual bleeding or bruis-\n",
      "ing, weakness,fatigue, bloody or black stools, bloody\n",
      "or cloudy urine, and a sudden decrease in the amount\n",
      "of urine.\n",
      "Overdoses of acetaminophen may causenausea,\n",
      "vomiting, sweating, and exhaustion. Very large over-\n",
      "doses can cause liver damage. In case of an overdose,\n",
      "immediate medical attention should be sought. In\n",
      "2004, researchers announced that an injection to coun-\n",
      "teract the liver injury caused by acetaminophen over-\n",
      "\n",
      "---\n",
      "\n"
     ]
    }
   ],
   "source": [
    "# Define your query\n",
    "query = \"What are the side effects of vaccines?\"\n",
    "\n",
    "# Perform similarity search in the FAISS database to get top 3 relevant chunks\n",
    "results = db.similarity_search(query, k=3)\n",
    "\n",
    "# Print the results (top 3 chunks)\n",
    "for idx, result in enumerate(results):\n",
    "    print(f\"Result {idx + 1}:\")\n",
    "    print(result.page_content)  # This will print the actual text content of the chunk\n",
    "    print(\"\\n---\\n\")\n"
   ]
  },
  {
   "cell_type": "code",
   "execution_count": 31,
   "id": "a236ba9e",
   "metadata": {},
   "outputs": [],
   "source": [
    "import os\n",
    "\n",
    "if not os.path.exists(\"vectorstore\"):\n",
    "    os.makedirs(\"vectorstore\")\n"
   ]
  },
  {
   "cell_type": "code",
   "execution_count": 32,
   "id": "a1697a68",
   "metadata": {},
   "outputs": [],
   "source": [
    "import os"
   ]
  },
  {
   "cell_type": "code",
   "execution_count": 33,
   "id": "1c9c9168",
   "metadata": {},
   "outputs": [],
   "source": [
    "import streamlit as st"
   ]
  },
  {
   "cell_type": "code",
   "execution_count": 34,
   "id": "7b4a7de5",
   "metadata": {},
   "outputs": [
    {
     "name": "stdout",
     "output_type": "stream",
     "text": [
      "Requirement already satisfied: streamlit in c:\\users\\nashra kamal\\anaconda3\\lib\\site-packages (1.44.1)\n",
      "Requirement already satisfied: watchdog<7,>=2.1.5 in c:\\users\\nashra kamal\\anaconda3\\lib\\site-packages (from streamlit) (2.1.6)\n",
      "Requirement already satisfied: protobuf<6,>=3.20 in c:\\users\\nashra kamal\\anaconda3\\lib\\site-packages (from streamlit) (4.23.0)\n",
      "Requirement already satisfied: altair<6,>=4.0 in c:\\users\\nashra kamal\\anaconda3\\lib\\site-packages (from streamlit) (5.5.0)\n",
      "Requirement already satisfied: pyarrow>=7.0 in c:\\users\\nashra kamal\\anaconda3\\lib\\site-packages (from streamlit) (19.0.1)\n",
      "Requirement already satisfied: pandas<3,>=1.4.0 in c:\\users\\nashra kamal\\anaconda3\\lib\\site-packages (from streamlit) (1.5.3)\n",
      "Requirement already satisfied: blinker<2,>=1.0.0 in c:\\users\\nashra kamal\\anaconda3\\lib\\site-packages (from streamlit) (1.9.0)\n",
      "Requirement already satisfied: typing-extensions<5,>=4.4.0 in c:\\users\\nashra kamal\\anaconda3\\lib\\site-packages (from streamlit) (4.13.1)\n",
      "Requirement already satisfied: requests<3,>=2.27 in c:\\users\\nashra kamal\\anaconda3\\lib\\site-packages (from streamlit) (2.28.1)\n",
      "Requirement already satisfied: pillow<12,>=7.1.0 in c:\\users\\nashra kamal\\anaconda3\\lib\\site-packages (from streamlit) (9.4.0)\n",
      "Requirement already satisfied: gitpython!=3.1.19,<4,>=3.0.7 in c:\\users\\nashra kamal\\anaconda3\\lib\\site-packages (from streamlit) (3.1.44)\n",
      "Requirement already satisfied: cachetools<6,>=4.0 in c:\\users\\nashra kamal\\anaconda3\\lib\\site-packages (from streamlit) (5.3.0)\n",
      "Requirement already satisfied: toml<2,>=0.10.1 in c:\\users\\nashra kamal\\anaconda3\\lib\\site-packages (from streamlit) (0.10.2)\n",
      "Requirement already satisfied: pydeck<1,>=0.8.0b4 in c:\\users\\nashra kamal\\anaconda3\\lib\\site-packages (from streamlit) (0.9.1)\n",
      "Requirement already satisfied: packaging<25,>=20 in c:\\users\\nashra kamal\\anaconda3\\lib\\site-packages (from streamlit) (24.2)\n",
      "Requirement already satisfied: tornado<7,>=6.0.3 in c:\\users\\nashra kamal\\anaconda3\\lib\\site-packages (from streamlit) (6.1)\n",
      "Requirement already satisfied: numpy<3,>=1.23 in c:\\users\\nashra kamal\\anaconda3\\lib\\site-packages (from streamlit) (1.26.4)\n",
      "Requirement already satisfied: tenacity<10,>=8.1.0 in c:\\users\\nashra kamal\\anaconda3\\lib\\site-packages (from streamlit) (9.1.2)\n",
      "Requirement already satisfied: click<9,>=7.0 in c:\\users\\nashra kamal\\anaconda3\\lib\\site-packages (from streamlit) (8.0.4)\n",
      "Requirement already satisfied: narwhals>=1.14.2 in c:\\users\\nashra kamal\\anaconda3\\lib\\site-packages (from altair<6,>=4.0->streamlit) (1.35.0)\n",
      "Requirement already satisfied: jsonschema>=3.0 in c:\\users\\nashra kamal\\anaconda3\\lib\\site-packages (from altair<6,>=4.0->streamlit) (4.17.3)\n",
      "Requirement already satisfied: jinja2 in c:\\users\\nashra kamal\\anaconda3\\lib\\site-packages (from altair<6,>=4.0->streamlit) (3.1.2)\n",
      "Requirement already satisfied: colorama in c:\\users\\nashra kamal\\anaconda3\\lib\\site-packages (from click<9,>=7.0->streamlit) (0.4.6)\n",
      "Requirement already satisfied: gitdb<5,>=4.0.1 in c:\\users\\nashra kamal\\anaconda3\\lib\\site-packages (from gitpython!=3.1.19,<4,>=3.0.7->streamlit) (4.0.12)\n",
      "Requirement already satisfied: pytz>=2020.1 in c:\\users\\nashra kamal\\anaconda3\\lib\\site-packages (from pandas<3,>=1.4.0->streamlit) (2022.7)\n",
      "Requirement already satisfied: python-dateutil>=2.8.1 in c:\\users\\nashra kamal\\appdata\\roaming\\python\\python310\\site-packages (from pandas<3,>=1.4.0->streamlit) (2.8.2)\n",
      "Requirement already satisfied: urllib3<1.27,>=1.21.1 in c:\\users\\nashra kamal\\anaconda3\\lib\\site-packages (from requests<3,>=2.27->streamlit) (1.26.14)\n",
      "Requirement already satisfied: certifi>=2017.4.17 in c:\\users\\nashra kamal\\anaconda3\\lib\\site-packages (from requests<3,>=2.27->streamlit) (2022.12.7)\n",
      "Requirement already satisfied: idna<4,>=2.5 in c:\\users\\nashra kamal\\anaconda3\\lib\\site-packages (from requests<3,>=2.27->streamlit) (3.4)\n",
      "Requirement already satisfied: charset-normalizer<3,>=2 in c:\\users\\nashra kamal\\anaconda3\\lib\\site-packages (from requests<3,>=2.27->streamlit) (2.0.4)\n",
      "Requirement already satisfied: smmap<6,>=3.0.1 in c:\\users\\nashra kamal\\anaconda3\\lib\\site-packages (from gitdb<5,>=4.0.1->gitpython!=3.1.19,<4,>=3.0.7->streamlit) (5.0.2)\n",
      "Requirement already satisfied: MarkupSafe>=2.0 in c:\\users\\nashra kamal\\anaconda3\\lib\\site-packages (from jinja2->altair<6,>=4.0->streamlit) (2.1.1)\n",
      "Requirement already satisfied: pyrsistent!=0.17.0,!=0.17.1,!=0.17.2,>=0.14.0 in c:\\users\\nashra kamal\\anaconda3\\lib\\site-packages (from jsonschema>=3.0->altair<6,>=4.0->streamlit) (0.18.0)\n",
      "Requirement already satisfied: attrs>=17.4.0 in c:\\users\\nashra kamal\\anaconda3\\lib\\site-packages (from jsonschema>=3.0->altair<6,>=4.0->streamlit) (22.1.0)\n",
      "Requirement already satisfied: six>=1.5 in c:\\users\\nashra kamal\\appdata\\roaming\\python\\python310\\site-packages (from python-dateutil>=2.8.1->pandas<3,>=1.4.0->streamlit) (1.16.0)\n"
     ]
    }
   ],
   "source": [
    "!pip install streamlit\n"
   ]
  },
  {
   "cell_type": "code",
   "execution_count": 35,
   "id": "77b6bd11",
   "metadata": {},
   "outputs": [],
   "source": [
    "from langchain.embeddings import HuggingFaceEmbeddings"
   ]
  },
  {
   "cell_type": "code",
   "execution_count": 36,
   "id": "e96a70ff",
   "metadata": {},
   "outputs": [],
   "source": [
    "from langchain.chains import RetrievalQA"
   ]
  },
  {
   "cell_type": "code",
   "execution_count": 37,
   "id": "adb60057",
   "metadata": {},
   "outputs": [],
   "source": [
    "from langchain_community.vectorstores import FAISS"
   ]
  },
  {
   "cell_type": "code",
   "execution_count": 38,
   "id": "ba657edd",
   "metadata": {},
   "outputs": [],
   "source": [
    "from langchain_core.prompts import PromptTemplate"
   ]
  },
  {
   "cell_type": "code",
   "execution_count": 39,
   "id": "61c1ab9b",
   "metadata": {},
   "outputs": [],
   "source": [
    "from langchain_huggingface import HuggingFaceEndpoint"
   ]
  },
  {
   "cell_type": "code",
   "execution_count": 40,
   "id": "253841cc",
   "metadata": {},
   "outputs": [
    {
     "name": "stdout",
     "output_type": "stream",
     "text": [
      "Requirement already satisfied: pipenv in c:\\users\\nashra kamal\\anaconda3\\lib\\site-packages (2025.0.1)\n",
      "Requirement already satisfied: packaging>=22 in c:\\users\\nashra kamal\\anaconda3\\lib\\site-packages (from pipenv) (24.2)\n",
      "Requirement already satisfied: virtualenv>=20.24.2 in c:\\users\\nashra kamal\\anaconda3\\lib\\site-packages (from pipenv) (20.30.0)\n",
      "Requirement already satisfied: setuptools>=67 in c:\\users\\nashra kamal\\anaconda3\\lib\\site-packages (from pipenv) (79.0.1)\n",
      "Requirement already satisfied: certifi in c:\\users\\nashra kamal\\anaconda3\\lib\\site-packages (from pipenv) (2022.12.7)\n",
      "Requirement already satisfied: filelock<4,>=3.12.2 in c:\\users\\nashra kamal\\anaconda3\\lib\\site-packages (from virtualenv>=20.24.2->pipenv) (3.18.0)\n",
      "Requirement already satisfied: distlib<1,>=0.3.7 in c:\\users\\nashra kamal\\anaconda3\\lib\\site-packages (from virtualenv>=20.24.2->pipenv) (0.3.9)\n",
      "Requirement already satisfied: platformdirs<5,>=3.9.1 in c:\\users\\nashra kamal\\anaconda3\\lib\\site-packages (from virtualenv>=20.24.2->pipenv) (4.3.7)\n",
      "Note: you may need to restart the kernel to use updated packages.\n"
     ]
    }
   ],
   "source": [
    "pip install pipenv"
   ]
  },
  {
   "cell_type": "code",
   "execution_count": 41,
   "id": "a7cf6893",
   "metadata": {},
   "outputs": [
    {
     "name": "stdout",
     "output_type": "stream",
     "text": [
      "Requirement already satisfied: requests_mock in c:\\users\\nashra kamal\\anaconda3\\lib\\site-packages (1.12.1)\n",
      "Requirement already satisfied: requests<3,>=2.22 in c:\\users\\nashra kamal\\anaconda3\\lib\\site-packages (from requests_mock) (2.28.1)\n",
      "Requirement already satisfied: charset-normalizer<3,>=2 in c:\\users\\nashra kamal\\anaconda3\\lib\\site-packages (from requests<3,>=2.22->requests_mock) (2.0.4)\n",
      "Requirement already satisfied: urllib3<1.27,>=1.21.1 in c:\\users\\nashra kamal\\anaconda3\\lib\\site-packages (from requests<3,>=2.22->requests_mock) (1.26.14)\n",
      "Requirement already satisfied: certifi>=2017.4.17 in c:\\users\\nashra kamal\\anaconda3\\lib\\site-packages (from requests<3,>=2.22->requests_mock) (2022.12.7)\n",
      "Requirement already satisfied: idna<4,>=2.5 in c:\\users\\nashra kamal\\anaconda3\\lib\\site-packages (from requests<3,>=2.22->requests_mock) (3.4)\n",
      "Note: you may need to restart the kernel to use updated packages.\n"
     ]
    }
   ],
   "source": [
    "pip install requests_mock\n"
   ]
  },
  {
   "cell_type": "code",
   "execution_count": 42,
   "id": "fae40df4",
   "metadata": {},
   "outputs": [
    {
     "name": "stdout",
     "output_type": "stream",
     "text": [
      "Collecting numpy==1.23.5\n",
      "  Using cached numpy-1.23.5-cp310-cp310-win_amd64.whl (14.6 MB)\n",
      "Installing collected packages: numpy\n",
      "  Attempting uninstall: numpy\n",
      "    Found existing installation: numpy 1.26.4\n",
      "    Uninstalling numpy-1.26.4:\n",
      "      Successfully uninstalled numpy-1.26.4\n"
     ]
    },
    {
     "name": "stderr",
     "output_type": "stream",
     "text": [
      "ERROR: Could not install packages due to an OSError: [WinError 5] Access is denied: 'C:\\\\Users\\\\Nashra Kamal\\\\anaconda3\\\\Lib\\\\site-packages\\\\~-mpy.libs\\\\libopenblas64__v0.3.23-293-gc2f4bdbb-gcc_10_3_0-2bde3a66a51006b2b53eb373ff767a3f.dll'\n",
      "Consider using the `--user` option or check the permissions.\n",
      "\n"
     ]
    }
   ],
   "source": [
    "!pip install numpy==1.23.5\n",
    "\n",
    "\n"
   ]
  },
  {
   "cell_type": "code",
   "execution_count": 43,
   "id": "39f9057b",
   "metadata": {},
   "outputs": [
    {
     "name": "stdout",
     "output_type": "stream",
     "text": [
      "Collecting clyent==1.2.1\n",
      "  Using cached clyent-1.2.1.tar.gz (20 kB)\n",
      "  Preparing metadata (setup.py): started\n",
      "  Preparing metadata (setup.py): finished with status 'error'\n"
     ]
    },
    {
     "name": "stderr",
     "output_type": "stream",
     "text": [
      "  error: subprocess-exited-with-error\n",
      "  \n",
      "  python setup.py egg_info did not run successfully.\n",
      "  exit code: 1\n",
      "  \n",
      "  [1 lines of output]\n",
      "  ERROR: Can not execute `setup.py` since setuptools is not available in the build environment.\n",
      "  [end of output]\n",
      "  \n",
      "  note: This error originates from a subprocess, and is likely not a problem with pip.\n",
      "error: metadata-generation-failed\n",
      "\n",
      "Encountered error while generating package metadata.\n",
      "\n",
      "See above for output.\n",
      "\n",
      "note: This is an issue with the package mentioned above, not pip.\n",
      "hint: See above for details.\n"
     ]
    }
   ],
   "source": [
    "!pip install clyent==1.2.1\n",
    "\n"
   ]
  },
  {
   "cell_type": "code",
   "execution_count": 44,
   "id": "ffbd6e57",
   "metadata": {},
   "outputs": [
    {
     "name": "stdout",
     "output_type": "stream",
     "text": [
      "Requirement already satisfied: setuptools in c:\\users\\nashra kamal\\anaconda3\\lib\\site-packages (79.0.1)\n",
      "Note: you may need to restart the kernel to use updated packages.\n"
     ]
    }
   ],
   "source": [
    "pip install setuptools\n"
   ]
  },
  {
   "cell_type": "code",
   "execution_count": 45,
   "id": "a5588388",
   "metadata": {},
   "outputs": [
    {
     "name": "stdout",
     "output_type": "stream",
     "text": [
      "Note: you may need to restart the kernel to use updated packages.\n"
     ]
    },
    {
     "name": "stderr",
     "output_type": "stream",
     "text": [
      "ERROR: You must give at least one requirement to install (see \"pip help install\")\n"
     ]
    }
   ],
   "source": [
    "pip install --upgrade --upgrade-strategy=only-if-needed\n"
   ]
  },
  {
   "cell_type": "code",
   "execution_count": 46,
   "id": "b52e9b8d",
   "metadata": {},
   "outputs": [],
   "source": [
    "HF_TOKEN = os.environ.get(\"HF_TOKEN\")"
   ]
  },
  {
   "cell_type": "code",
   "execution_count": 47,
   "id": "e2da29e8",
   "metadata": {},
   "outputs": [],
   "source": [
    "import os\n",
    "from langchain_huggingface import HuggingFaceEndpoint  # New import if you updated\n",
    "\n",
    "# Fetch your HF token from environment variables\n",
    "HF_TOKEN = os.environ.get(\"HF_TOKEN\")\n",
    "\n",
    "# Huggingface model ID\n",
    "HUGGINGFACE_REPO_ID = \"mistralai/Mistral-7B-Instruct-v0.3\"\n",
    "\n",
    "# Function to load LLM\n",
    "def load_llm(huggingface_repo_id):\n",
    "    llm = HuggingFaceEndpoint(\n",
    "        repo_id=huggingface_repo_id,\n",
    "        temperature=0.5,\n",
    "        model_kwargs={\n",
    "            \"token\": HF_TOKEN,\n",
    "            \"max_length\": \"512\"\n",
    "        }\n",
    "    )\n",
    "    return llm\n",
    "\n",
    "# Usage\n",
    "llm = load_llm(HUGGINGFACE_REPO_ID)\n"
   ]
  },
  {
   "cell_type": "code",
   "execution_count": 48,
   "id": "09e7d0cf",
   "metadata": {},
   "outputs": [
    {
     "name": "stdout",
     "output_type": "stream",
     "text": [
      "Requirement already satisfied: jupyterlab-code-formatter in c:\\users\\nashra kamal\\anaconda3\\lib\\site-packages (3.0.2)\n",
      "Requirement already satisfied: packaging in c:\\users\\nashra kamal\\anaconda3\\lib\\site-packages (from jupyterlab-code-formatter) (24.2)\n",
      "Requirement already satisfied: jupyter-server<3,>=1.21 in c:\\users\\nashra kamal\\anaconda3\\lib\\site-packages (from jupyterlab-code-formatter) (1.23.4)\n",
      "Requirement already satisfied: Send2Trash in c:\\users\\nashra kamal\\anaconda3\\lib\\site-packages (from jupyter-server<3,>=1.21->jupyterlab-code-formatter) (1.8.0)\n",
      "Requirement already satisfied: jinja2 in c:\\users\\nashra kamal\\anaconda3\\lib\\site-packages (from jupyter-server<3,>=1.21->jupyterlab-code-formatter) (3.1.2)\n",
      "Requirement already satisfied: argon2-cffi in c:\\users\\nashra kamal\\anaconda3\\lib\\site-packages (from jupyter-server<3,>=1.21->jupyterlab-code-formatter) (21.3.0)\n",
      "Requirement already satisfied: websocket-client in c:\\users\\nashra kamal\\anaconda3\\lib\\site-packages (from jupyter-server<3,>=1.21->jupyterlab-code-formatter) (0.58.0)\n",
      "Requirement already satisfied: nbconvert>=6.4.4 in c:\\users\\nashra kamal\\anaconda3\\lib\\site-packages (from jupyter-server<3,>=1.21->jupyterlab-code-formatter) (6.5.4)\n",
      "Requirement already satisfied: jupyter-core>=4.7.0 in c:\\users\\nashra kamal\\anaconda3\\lib\\site-packages (from jupyter-server<3,>=1.21->jupyterlab-code-formatter) (5.7.2)\n",
      "Requirement already satisfied: nbformat>=5.2.0 in c:\\users\\nashra kamal\\anaconda3\\lib\\site-packages (from jupyter-server<3,>=1.21->jupyterlab-code-formatter) (5.7.0)\n",
      "Requirement already satisfied: anyio<4,>=3.1.0 in c:\\users\\nashra kamal\\anaconda3\\lib\\site-packages (from jupyter-server<3,>=1.21->jupyterlab-code-formatter) (3.5.0)\n",
      "Requirement already satisfied: pyzmq>=17 in c:\\users\\nashra kamal\\appdata\\roaming\\python\\python310\\site-packages (from jupyter-server<3,>=1.21->jupyterlab-code-formatter) (24.0.1)\n",
      "Requirement already satisfied: terminado>=0.8.3 in c:\\users\\nashra kamal\\anaconda3\\lib\\site-packages (from jupyter-server<3,>=1.21->jupyterlab-code-formatter) (0.17.1)\n",
      "Requirement already satisfied: tornado>=6.1.0 in c:\\users\\nashra kamal\\anaconda3\\lib\\site-packages (from jupyter-server<3,>=1.21->jupyterlab-code-formatter) (6.1)\n",
      "Requirement already satisfied: traitlets>=5.1 in c:\\users\\nashra kamal\\appdata\\roaming\\python\\python310\\site-packages (from jupyter-server<3,>=1.21->jupyterlab-code-formatter) (5.5.0)\n",
      "Requirement already satisfied: pywinpty in c:\\users\\nashra kamal\\anaconda3\\lib\\site-packages (from jupyter-server<3,>=1.21->jupyterlab-code-formatter) (2.0.10)\n",
      "Requirement already satisfied: jupyter-client>=6.1.12 in c:\\users\\nashra kamal\\appdata\\roaming\\python\\python310\\site-packages (from jupyter-server<3,>=1.21->jupyterlab-code-formatter) (7.4.3)\n",
      "Requirement already satisfied: prometheus-client in c:\\users\\nashra kamal\\anaconda3\\lib\\site-packages (from jupyter-server<3,>=1.21->jupyterlab-code-formatter) (0.14.1)\n",
      "Requirement already satisfied: idna>=2.8 in c:\\users\\nashra kamal\\anaconda3\\lib\\site-packages (from anyio<4,>=3.1.0->jupyter-server<3,>=1.21->jupyterlab-code-formatter) (3.4)\n",
      "Requirement already satisfied: sniffio>=1.1 in c:\\users\\nashra kamal\\anaconda3\\lib\\site-packages (from anyio<4,>=3.1.0->jupyter-server<3,>=1.21->jupyterlab-code-formatter) (1.2.0)\n",
      "Requirement already satisfied: entrypoints in c:\\users\\nashra kamal\\appdata\\roaming\\python\\python310\\site-packages (from jupyter-client>=6.1.12->jupyter-server<3,>=1.21->jupyterlab-code-formatter) (0.4)\n",
      "Requirement already satisfied: nest-asyncio>=1.5.4 in c:\\users\\nashra kamal\\appdata\\roaming\\python\\python310\\site-packages (from jupyter-client>=6.1.12->jupyter-server<3,>=1.21->jupyterlab-code-formatter) (1.5.6)\n",
      "Collecting tornado>=6.1.0\n",
      "  Using cached tornado-6.4.2-cp38-abi3-win_amd64.whl (438 kB)\n",
      "Requirement already satisfied: python-dateutil>=2.8.2 in c:\\users\\nashra kamal\\appdata\\roaming\\python\\python310\\site-packages (from jupyter-client>=6.1.12->jupyter-server<3,>=1.21->jupyterlab-code-formatter) (2.8.2)\n",
      "Requirement already satisfied: platformdirs>=2.5 in c:\\users\\nashra kamal\\anaconda3\\lib\\site-packages (from jupyter-core>=4.7.0->jupyter-server<3,>=1.21->jupyterlab-code-formatter) (4.3.7)\n",
      "Requirement already satisfied: pywin32>=300 in c:\\users\\nashra kamal\\appdata\\roaming\\python\\python310\\site-packages (from jupyter-core>=4.7.0->jupyter-server<3,>=1.21->jupyterlab-code-formatter) (304)\n",
      "Requirement already satisfied: MarkupSafe>=2.0 in c:\\users\\nashra kamal\\anaconda3\\lib\\site-packages (from nbconvert>=6.4.4->jupyter-server<3,>=1.21->jupyterlab-code-formatter) (2.1.1)\n",
      "Requirement already satisfied: bleach in c:\\users\\nashra kamal\\anaconda3\\lib\\site-packages (from nbconvert>=6.4.4->jupyter-server<3,>=1.21->jupyterlab-code-formatter) (4.1.0)\n",
      "Requirement already satisfied: pandocfilters>=1.4.1 in c:\\users\\nashra kamal\\anaconda3\\lib\\site-packages (from nbconvert>=6.4.4->jupyter-server<3,>=1.21->jupyterlab-code-formatter) (1.5.0)\n",
      "Requirement already satisfied: mistune<2,>=0.8.1 in c:\\users\\nashra kamal\\anaconda3\\lib\\site-packages (from nbconvert>=6.4.4->jupyter-server<3,>=1.21->jupyterlab-code-formatter) (0.8.4)\n",
      "Requirement already satisfied: pygments>=2.4.1 in c:\\users\\nashra kamal\\appdata\\roaming\\python\\python310\\site-packages (from nbconvert>=6.4.4->jupyter-server<3,>=1.21->jupyterlab-code-formatter) (2.13.0)\n",
      "Requirement already satisfied: nbclient>=0.5.0 in c:\\users\\nashra kamal\\anaconda3\\lib\\site-packages (from nbconvert>=6.4.4->jupyter-server<3,>=1.21->jupyterlab-code-formatter) (0.5.13)\n",
      "Requirement already satisfied: jupyterlab-pygments in c:\\users\\nashra kamal\\anaconda3\\lib\\site-packages (from nbconvert>=6.4.4->jupyter-server<3,>=1.21->jupyterlab-code-formatter) (0.1.2)\n",
      "Requirement already satisfied: defusedxml in c:\\users\\nashra kamal\\anaconda3\\lib\\site-packages (from nbconvert>=6.4.4->jupyter-server<3,>=1.21->jupyterlab-code-formatter) (0.7.1)\n",
      "Requirement already satisfied: tinycss2 in c:\\users\\nashra kamal\\anaconda3\\lib\\site-packages (from nbconvert>=6.4.4->jupyter-server<3,>=1.21->jupyterlab-code-formatter) (1.2.1)\n",
      "Requirement already satisfied: beautifulsoup4 in c:\\users\\nashra kamal\\anaconda3\\lib\\site-packages (from nbconvert>=6.4.4->jupyter-server<3,>=1.21->jupyterlab-code-formatter) (4.11.1)\n",
      "Requirement already satisfied: lxml in c:\\users\\nashra kamal\\anaconda3\\lib\\site-packages (from nbconvert>=6.4.4->jupyter-server<3,>=1.21->jupyterlab-code-formatter) (4.9.1)\n",
      "Requirement already satisfied: jsonschema>=2.6 in c:\\users\\nashra kamal\\anaconda3\\lib\\site-packages (from nbformat>=5.2.0->jupyter-server<3,>=1.21->jupyterlab-code-formatter) (4.17.3)\n",
      "Requirement already satisfied: fastjsonschema in c:\\users\\nashra kamal\\anaconda3\\lib\\site-packages (from nbformat>=5.2.0->jupyter-server<3,>=1.21->jupyterlab-code-formatter) (2.16.2)\n",
      "Requirement already satisfied: argon2-cffi-bindings in c:\\users\\nashra kamal\\anaconda3\\lib\\site-packages (from argon2-cffi->jupyter-server<3,>=1.21->jupyterlab-code-formatter) (21.2.0)\n",
      "Requirement already satisfied: six in c:\\users\\nashra kamal\\appdata\\roaming\\python\\python310\\site-packages (from websocket-client->jupyter-server<3,>=1.21->jupyterlab-code-formatter) (1.16.0)\n",
      "Requirement already satisfied: attrs>=17.4.0 in c:\\users\\nashra kamal\\anaconda3\\lib\\site-packages (from jsonschema>=2.6->nbformat>=5.2.0->jupyter-server<3,>=1.21->jupyterlab-code-formatter) (22.1.0)\n",
      "Requirement already satisfied: pyrsistent!=0.17.0,!=0.17.1,!=0.17.2,>=0.14.0 in c:\\users\\nashra kamal\\anaconda3\\lib\\site-packages (from jsonschema>=2.6->nbformat>=5.2.0->jupyter-server<3,>=1.21->jupyterlab-code-formatter) (0.18.0)\n",
      "Requirement already satisfied: cffi>=1.0.1 in c:\\users\\nashra kamal\\anaconda3\\lib\\site-packages (from argon2-cffi-bindings->argon2-cffi->jupyter-server<3,>=1.21->jupyterlab-code-formatter) (1.15.1)\n",
      "Requirement already satisfied: soupsieve>1.2 in c:\\users\\nashra kamal\\anaconda3\\lib\\site-packages (from beautifulsoup4->nbconvert>=6.4.4->jupyter-server<3,>=1.21->jupyterlab-code-formatter) (2.3.2.post1)\n",
      "Requirement already satisfied: webencodings in c:\\users\\nashra kamal\\anaconda3\\lib\\site-packages (from bleach->nbconvert>=6.4.4->jupyter-server<3,>=1.21->jupyterlab-code-formatter) (0.5.1)\n",
      "Requirement already satisfied: pycparser in c:\\users\\nashra kamal\\anaconda3\\lib\\site-packages (from cffi>=1.0.1->argon2-cffi-bindings->argon2-cffi->jupyter-server<3,>=1.21->jupyterlab-code-formatter) (2.21)\n",
      "Installing collected packages: tornado\n",
      "  Attempting uninstall: tornado\n",
      "    Found existing installation: tornado 6.1\n",
      "    Uninstalling tornado-6.1:\n",
      "      Successfully uninstalled tornado-6.1\n",
      "Successfully installed tornado-6.4.2\n",
      "Note: you may need to restart the kernel to use updated packages.\n"
     ]
    },
    {
     "name": "stderr",
     "output_type": "stream",
     "text": [
      "ERROR: pip's dependency resolver does not currently take into account all the packages that are installed. This behaviour is the source of the following dependency conflicts.\n",
      "distributed 2022.7.0 requires tornado<6.2,>=6.0.3, but you have tornado 6.4.2 which is incompatible.\n"
     ]
    }
   ],
   "source": [
    "pip install jupyterlab-code-formatter\n"
   ]
  },
  {
   "cell_type": "code",
   "execution_count": 49,
   "id": "06fe0a52",
   "metadata": {},
   "outputs": [
    {
     "name": "stdout",
     "output_type": "stream",
     "text": [
      "The jupyterlab_code_formatter module is not an IPython extension.\n"
     ]
    },
    {
     "name": "stderr",
     "output_type": "stream",
     "text": [
      "UsageError: Line magic function `%jupyterlab_code_formatter` not found.\n"
     ]
    }
   ],
   "source": [
    "%load_ext jupyterlab_code_formatter\n",
    "%jupyterlab_code_formatter\n"
   ]
  },
  {
   "cell_type": "code",
   "execution_count": 50,
   "id": "ce037fd8",
   "metadata": {},
   "outputs": [],
   "source": [
    "CUSTOM_PROMPT_TEMPLATE = \"\"\"\n",
    "    Use the pieces of information provided in the context to answer user's question.\n",
    "    If you dont know the answer, just say that you dont know, dont try to make up an answer. \n",
    "    Dont provide anything out of the given context\n",
    " \n",
    "    Context: {context}\n",
    "    Question: {question}\n",
    " \n",
    "    Start the answer directly. No small talk please.\n",
    "    \"\"\"\n",
    " \n",
    "def set_custom_prompt(custom_prompt_template):\n",
    "     prompt=PromptTemplate(template=custom_prompt_template, input_variables=[\"context\", \"question\"])\n",
    "     return prompt"
   ]
  },
  {
   "cell_type": "code",
   "execution_count": 51,
   "id": "f15d623c",
   "metadata": {},
   "outputs": [
    {
     "name": "stderr",
     "output_type": "stream",
     "text": [
      "C:\\Users\\Nashra Kamal\\AppData\\Local\\Temp\\ipykernel_8340\\3480154518.py:2: LangChainDeprecationWarning: The class `HuggingFaceEmbeddings` was deprecated in LangChain 0.2.2 and will be removed in 1.0. An updated version of the class exists in the :class:`~langchain-huggingface package and should be used instead. To use it run `pip install -U :class:`~langchain-huggingface` and import as `from :class:`~langchain_huggingface import HuggingFaceEmbeddings``.\n",
      "  embedding_model=HuggingFaceEmbeddings(model_name=\"sentence-transformers/all-MiniLM-L6-v2\")\n"
     ]
    }
   ],
   "source": [
    "DB_FAISS_PATH = \"vectorstore/db_faiss\"\n",
    "embedding_model=HuggingFaceEmbeddings(model_name=\"sentence-transformers/all-MiniLM-L6-v2\")\n",
    "db=FAISS.load_local(DB_FAISS_PATH, embedding_model, allow_dangerous_deserialization=True)"
   ]
  },
  {
   "cell_type": "code",
   "execution_count": null,
   "id": "ae627595",
   "metadata": {},
   "outputs": [
    {
     "name": "stdout",
     "output_type": "stream",
     "text": [
      "Requirement already satisfied: langchain-huggingface in c:\\users\\nashra kamal\\anaconda3\\lib\\site-packages (0.1.2)\n",
      "Requirement already satisfied: langchain-core<0.4.0,>=0.3.15 in c:\\users\\nashra kamal\\anaconda3\\lib\\site-packages (from langchain-huggingface) (0.3.56)\n",
      "Requirement already satisfied: transformers>=4.39.0 in c:\\users\\nashra kamal\\anaconda3\\lib\\site-packages (from langchain-huggingface) (4.51.3)\n",
      "Requirement already satisfied: tokenizers>=0.19.1 in c:\\users\\nashra kamal\\anaconda3\\lib\\site-packages (from langchain-huggingface) (0.21.1)\n",
      "Requirement already satisfied: huggingface-hub>=0.23.0 in c:\\users\\nashra kamal\\anaconda3\\lib\\site-packages (from langchain-huggingface) (0.30.2)\n",
      "Requirement already satisfied: sentence-transformers>=2.6.0 in c:\\users\\nashra kamal\\anaconda3\\lib\\site-packages (from langchain-huggingface) (4.1.0)\n",
      "Requirement already satisfied: filelock in c:\\users\\nashra kamal\\anaconda3\\lib\\site-packages (from huggingface-hub>=0.23.0->langchain-huggingface) (3.18.0)\n",
      "Requirement already satisfied: fsspec>=2023.5.0 in c:\\users\\nashra kamal\\anaconda3\\lib\\site-packages (from huggingface-hub>=0.23.0->langchain-huggingface) (2025.3.2)\n",
      "Requirement already satisfied: typing-extensions>=3.7.4.3 in c:\\users\\nashra kamal\\anaconda3\\lib\\site-packages (from huggingface-hub>=0.23.0->langchain-huggingface) (4.13.1)\n",
      "Requirement already satisfied: requests in c:\\users\\nashra kamal\\anaconda3\\lib\\site-packages (from huggingface-hub>=0.23.0->langchain-huggingface) (2.28.1)\n",
      "Requirement already satisfied: tqdm>=4.42.1 in c:\\users\\nashra kamal\\anaconda3\\lib\\site-packages (from huggingface-hub>=0.23.0->langchain-huggingface) (4.64.1)\n",
      "Requirement already satisfied: packaging>=20.9 in c:\\users\\nashra kamal\\anaconda3\\lib\\site-packages (from huggingface-hub>=0.23.0->langchain-huggingface) (24.2)\n",
      "Requirement already satisfied: pyyaml>=5.1 in c:\\users\\nashra kamal\\anaconda3\\lib\\site-packages (from huggingface-hub>=0.23.0->langchain-huggingface) (6.0)\n",
      "Requirement already satisfied: tenacity!=8.4.0,<10.0.0,>=8.1.0 in c:\\users\\nashra kamal\\anaconda3\\lib\\site-packages (from langchain-core<0.4.0,>=0.3.15->langchain-huggingface) (9.1.2)\n",
      "Requirement already satisfied: jsonpatch<2.0,>=1.33 in c:\\users\\nashra kamal\\anaconda3\\lib\\site-packages (from langchain-core<0.4.0,>=0.3.15->langchain-huggingface) (1.33)\n",
      "Requirement already satisfied: pydantic<3.0.0,>=2.5.2 in c:\\users\\nashra kamal\\anaconda3\\lib\\site-packages (from langchain-core<0.4.0,>=0.3.15->langchain-huggingface) (2.11.3)\n",
      "Requirement already satisfied: langsmith<0.4,>=0.1.125 in c:\\users\\nashra kamal\\anaconda3\\lib\\site-packages (from langchain-core<0.4.0,>=0.3.15->langchain-huggingface) (0.3.32)\n",
      "Requirement already satisfied: scikit-learn in c:\\users\\nashra kamal\\anaconda3\\lib\\site-packages (from sentence-transformers>=2.6.0->langchain-huggingface) (1.6.1)\n",
      "Requirement already satisfied: torch>=1.11.0 in c:\\users\\nashra kamal\\anaconda3\\lib\\site-packages (from sentence-transformers>=2.6.0->langchain-huggingface) (2.7.0)\n",
      "Requirement already satisfied: scipy in c:\\users\\nashra kamal\\anaconda3\\lib\\site-packages (from sentence-transformers>=2.6.0->langchain-huggingface) (1.10.0)\n",
      "Requirement already satisfied: Pillow in c:\\users\\nashra kamal\\anaconda3\\lib\\site-packages (from sentence-transformers>=2.6.0->langchain-huggingface) (9.4.0)\n",
      "Requirement already satisfied: numpy>=1.17 in c:\\users\\nashra kamal\\anaconda3\\lib\\site-packages (from transformers>=4.39.0->langchain-huggingface) (1.23.5)\n",
      "Requirement already satisfied: safetensors>=0.4.3 in c:\\users\\nashra kamal\\anaconda3\\lib\\site-packages (from transformers>=4.39.0->langchain-huggingface) (0.5.3)\n",
      "Requirement already satisfied: regex!=2019.12.17 in c:\\users\\nashra kamal\\anaconda3\\lib\\site-packages (from transformers>=4.39.0->langchain-huggingface) (2022.7.9)\n",
      "Requirement already satisfied: jsonpointer>=1.9 in c:\\users\\nashra kamal\\anaconda3\\lib\\site-packages (from jsonpatch<2.0,>=1.33->langchain-core<0.4.0,>=0.3.15->langchain-huggingface) (2.1)\n",
      "Requirement already satisfied: httpx<1,>=0.23.0 in c:\\users\\nashra kamal\\anaconda3\\lib\\site-packages (from langsmith<0.4,>=0.1.125->langchain-core<0.4.0,>=0.3.15->langchain-huggingface) (0.28.1)\n",
      "Requirement already satisfied: zstandard<0.24.0,>=0.23.0 in c:\\users\\nashra kamal\\anaconda3\\lib\\site-packages (from langsmith<0.4,>=0.1.125->langchain-core<0.4.0,>=0.3.15->langchain-huggingface) (0.23.0)\n",
      "Requirement already satisfied: requests-toolbelt<2.0.0,>=1.0.0 in c:\\users\\nashra kamal\\anaconda3\\lib\\site-packages (from langsmith<0.4,>=0.1.125->langchain-core<0.4.0,>=0.3.15->langchain-huggingface) (1.0.0)\n",
      "Requirement already satisfied: orjson<4.0.0,>=3.9.14 in c:\\users\\nashra kamal\\anaconda3\\lib\\site-packages (from langsmith<0.4,>=0.1.125->langchain-core<0.4.0,>=0.3.15->langchain-huggingface) (3.10.16)\n",
      "Requirement already satisfied: annotated-types>=0.6.0 in c:\\users\\nashra kamal\\anaconda3\\lib\\site-packages (from pydantic<3.0.0,>=2.5.2->langchain-core<0.4.0,>=0.3.15->langchain-huggingface) (0.7.0)\n",
      "Requirement already satisfied: typing-inspection>=0.4.0 in c:\\users\\nashra kamal\\anaconda3\\lib\\site-packages (from pydantic<3.0.0,>=2.5.2->langchain-core<0.4.0,>=0.3.15->langchain-huggingface) (0.4.0)\n",
      "Requirement already satisfied: pydantic-core==2.33.1 in c:\\users\\nashra kamal\\anaconda3\\lib\\site-packages (from pydantic<3.0.0,>=2.5.2->langchain-core<0.4.0,>=0.3.15->langchain-huggingface) (2.33.1)\n",
      "Requirement already satisfied: charset-normalizer<3,>=2 in c:\\users\\nashra kamal\\anaconda3\\lib\\site-packages (from requests->huggingface-hub>=0.23.0->langchain-huggingface) (2.0.4)\n",
      "Requirement already satisfied: idna<4,>=2.5 in c:\\users\\nashra kamal\\anaconda3\\lib\\site-packages (from requests->huggingface-hub>=0.23.0->langchain-huggingface) (3.4)\n",
      "Requirement already satisfied: certifi>=2017.4.17 in c:\\users\\nashra kamal\\anaconda3\\lib\\site-packages (from requests->huggingface-hub>=0.23.0->langchain-huggingface) (2022.12.7)\n",
      "Requirement already satisfied: urllib3<1.27,>=1.21.1 in c:\\users\\nashra kamal\\anaconda3\\lib\\site-packages (from requests->huggingface-hub>=0.23.0->langchain-huggingface) (1.26.14)\n",
      "Requirement already satisfied: networkx in c:\\users\\nashra kamal\\anaconda3\\lib\\site-packages (from torch>=1.11.0->sentence-transformers>=2.6.0->langchain-huggingface) (2.8.4)\n",
      "Requirement already satisfied: sympy>=1.13.3 in c:\\users\\nashra kamal\\anaconda3\\lib\\site-packages (from torch>=1.11.0->sentence-transformers>=2.6.0->langchain-huggingface) (1.13.3)\n",
      "Requirement already satisfied: jinja2 in c:\\users\\nashra kamal\\anaconda3\\lib\\site-packages (from torch>=1.11.0->sentence-transformers>=2.6.0->langchain-huggingface) (3.1.2)\n",
      "Requirement already satisfied: colorama in c:\\users\\nashra kamal\\anaconda3\\lib\\site-packages (from tqdm>=4.42.1->huggingface-hub>=0.23.0->langchain-huggingface) (0.4.6)\n",
      "Requirement already satisfied: threadpoolctl>=3.1.0 in c:\\users\\nashra kamal\\anaconda3\\lib\\site-packages (from scikit-learn->sentence-transformers>=2.6.0->langchain-huggingface) (3.6.0)\n",
      "Requirement already satisfied: joblib>=1.2.0 in c:\\users\\nashra kamal\\anaconda3\\lib\\site-packages (from scikit-learn->sentence-transformers>=2.6.0->langchain-huggingface) (1.4.2)\n",
      "Requirement already satisfied: httpcore==1.* in c:\\users\\nashra kamal\\anaconda3\\lib\\site-packages (from httpx<1,>=0.23.0->langsmith<0.4,>=0.1.125->langchain-core<0.4.0,>=0.3.15->langchain-huggingface) (1.0.7)\n",
      "Requirement already satisfied: anyio in c:\\users\\nashra kamal\\anaconda3\\lib\\site-packages (from httpx<1,>=0.23.0->langsmith<0.4,>=0.1.125->langchain-core<0.4.0,>=0.3.15->langchain-huggingface) (3.5.0)\n",
      "Requirement already satisfied: h11<0.15,>=0.13 in c:\\users\\nashra kamal\\anaconda3\\lib\\site-packages (from httpcore==1.*->httpx<1,>=0.23.0->langsmith<0.4,>=0.1.125->langchain-core<0.4.0,>=0.3.15->langchain-huggingface) (0.14.0)\n",
      "Requirement already satisfied: mpmath<1.4,>=1.1.0 in c:\\users\\nashra kamal\\anaconda3\\lib\\site-packages (from sympy>=1.13.3->torch>=1.11.0->sentence-transformers>=2.6.0->langchain-huggingface) (1.2.1)\n",
      "Requirement already satisfied: MarkupSafe>=2.0 in c:\\users\\nashra kamal\\anaconda3\\lib\\site-packages (from jinja2->torch>=1.11.0->sentence-transformers>=2.6.0->langchain-huggingface) (2.1.1)\n",
      "Requirement already satisfied: sniffio>=1.1 in c:\\users\\nashra kamal\\anaconda3\\lib\\site-packages (from anyio->httpx<1,>=0.23.0->langsmith<0.4,>=0.1.125->langchain-core<0.4.0,>=0.3.15->langchain-huggingface) (1.2.0)\n",
      "Note: you may need to restart the kernel to use updated packages.\n"
     ]
    }
   ],
   "source": [
    "!pip install -U langchain-huggingface\n"
   ]
  },
  {
   "cell_type": "code",
   "execution_count": 53,
   "id": "a1463693",
   "metadata": {},
   "outputs": [],
   "source": [
    "from langchain.embeddings import HuggingFaceEmbeddings\n"
   ]
  },
  {
   "cell_type": "code",
   "execution_count": 54,
   "id": "207badae",
   "metadata": {},
   "outputs": [],
   "source": [
    "from langchain_huggingface import HuggingFaceEmbeddings\n"
   ]
  },
  {
   "cell_type": "code",
   "execution_count": 55,
   "id": "f657262e",
   "metadata": {},
   "outputs": [],
   "source": [
    "qa_chain=RetrievalQA.from_chain_type(\n",
    "     llm=load_llm(HUGGINGFACE_REPO_ID),\n",
    "     chain_type=\"stuff\",\n",
    "     retriever=db.as_retriever(search_kwargs={'k':3}),\n",
    "     return_source_documents=True,\n",
    "     chain_type_kwargs={'prompt':set_custom_prompt(CUSTOM_PROMPT_TEMPLATE)}\n",
    " )"
   ]
  },
  {
   "cell_type": "code",
   "execution_count": null,
   "id": "e40fa768",
   "metadata": {},
   "outputs": [],
   "source": [
    "user_query=input(\"Write Query Here: \")\n",
    "response=qa_chain.invoke({'query': user_query})\n",
    "print(\"RESULT: \", response[\"result\"])\n",
    "print(\"SOURCE DOCUMENTS: \", response[\"source_documents\"])"
   ]
  }
 ],
 "metadata": {
  "kernelspec": {
   "display_name": ".venv",
   "language": "python",
   "name": "python3"
  },
  "language_info": {
   "codemirror_mode": {
    "name": "ipython",
    "version": 3
   },
   "file_extension": ".py",
   "mimetype": "text/x-python",
   "name": "python",
   "nbconvert_exporter": "python",
   "pygments_lexer": "ipython3",
   "version": "3.10.9"
  }
 },
 "nbformat": 4,
 "nbformat_minor": 5
}
